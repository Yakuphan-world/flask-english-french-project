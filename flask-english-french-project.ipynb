{
 "cells": [
  {
   "cell_type": "code",
   "execution_count": 1,
   "metadata": {},
   "outputs": [
    {
     "ename": "ModuleNotFoundError",
     "evalue": "No module named 'machinetranslation'",
     "output_type": "error",
     "traceback": [
      "\u001b[0;31m---------------------------------------------------------------------------\u001b[0m",
      "\u001b[0;31mModuleNotFoundError\u001b[0m                       Traceback (most recent call last)",
      "Cell \u001b[0;32mIn [1], line 1\u001b[0m\n\u001b[0;32m----> 1\u001b[0m \u001b[38;5;28;01mfrom\u001b[39;00m \u001b[38;5;21;01mmachinetranslation\u001b[39;00m \u001b[38;5;28;01mimport\u001b[39;00m translator\n\u001b[1;32m      2\u001b[0m \u001b[38;5;28;01mfrom\u001b[39;00m \u001b[38;5;21;01mflask\u001b[39;00m \u001b[38;5;28;01mimport\u001b[39;00m Flask, render_template, request\n\u001b[1;32m      3\u001b[0m \u001b[38;5;28;01mimport\u001b[39;00m \u001b[38;5;21;01mjson\u001b[39;00m\n",
      "\u001b[0;31mModuleNotFoundError\u001b[0m: No module named 'machinetranslation'"
     ]
    }
   ],
   "source": [
    "from machinetranslation import translator\n",
    "from flask import Flask, render_template, request\n",
    "import json\n",
    "\n",
    "app = Flask(\"Web Translator\")\n",
    "\n",
    "@app.route(\"/englishToFrench\")\n",
    "def englishToFrench():\n",
    "    textToTranslate = request.args.get('textToTranslate')\n",
    "    translation = translator.english_to_french(textToTranslate)\n",
    "    return translation\n",
    "\n",
    "@app.route(\"/frenchToEnglish\")\n",
    "def frenchToEnglish():\n",
    "    textToTranslate = request.args.get('textToTranslate')\n",
    "    translation = translator.french_to_english(textToTranslate)\n",
    "    return translation\n",
    "\n",
    "@app.route(\"/\")\n",
    "def renderIndexPage():\n",
    "    return render_template(\"index.html\")\n",
    "\n",
    "if __name__ == \"__main__\":\n",
    "    app.run(host=\"0.0.0.0\", port=8080)"
   ]
  }
 ],
 "metadata": {
  "kernelspec": {
   "display_name": "Python 3.10.7 64-bit",
   "language": "python",
   "name": "python3"
  },
  "language_info": {
   "codemirror_mode": {
    "name": "ipython",
    "version": 3
   },
   "file_extension": ".py",
   "mimetype": "text/x-python",
   "name": "python",
   "nbconvert_exporter": "python",
   "pygments_lexer": "ipython3",
   "version": "3.10.7"
  },
  "orig_nbformat": 4,
  "vscode": {
   "interpreter": {
    "hash": "aee8b7b246df8f9039afb4144a1f6fd8d2ca17a180786b69acc140d282b71a49"
   }
  }
 },
 "nbformat": 4,
 "nbformat_minor": 2
}
